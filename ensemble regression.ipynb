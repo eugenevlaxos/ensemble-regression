{
 "cells": [
  {
   "cell_type": "markdown",
   "metadata": {},
   "source": [
    "# The regression ensemble"
   ]
  },
  {
   "cell_type": "code",
   "execution_count": 7,
   "metadata": {},
   "outputs": [],
   "source": [
    "def load_dataset(name):\n",
    "\n",
    "    import pandas as pd\n",
    "    import numpy as np\n",
    "    import matplotlib.pyplot as plt\n",
    "    import warnings\n",
    "    warnings.filterwarnings('ignore')\n",
    "    datas=pd.read_csv(name)\n",
    "    print(datas.isnull().sum())\n",
    "    print(datas.head())\n",
    "    x=datas.iloc[:,:-1].values\n",
    "    y=datas.iloc[:,-1].values\n",
    "    from sklearn.model_selection import train_test_split\n",
    "\n",
    "    x_train, x_test, y_train, y_test = train_test_split(x, y, test_size = 0.2, random_state=1)\n",
    "\n",
    "   # fig, ax = plt.subplots(figsize=(22, 16))\n",
    "    #plt.plot(x_train[:,0],x_train[:,1],\"r\")\n",
    "    #plt.plot(x_test[:,0],x_test[:,1],\"b\")\n",
    "    #plt.xlabel('FIRST FEATURE')\n",
    "    #plt.ylabel('SECOND FEATURE')\n",
    "    \n",
    "    return x_train, x_test, y_train, y_test"
   ]
  },
  {
   "cell_type": "code",
   "execution_count": 8,
   "metadata": {},
   "outputs": [
    {
     "name": "stdout",
     "output_type": "stream",
     "text": [
      "num        0\n",
      "crim       0\n",
      "zn         0\n",
      "indus      0\n",
      "chas       0\n",
      "nox        0\n",
      "rm         0\n",
      "age        0\n",
      "dis        0\n",
      "rad        0\n",
      "tax        0\n",
      "ptratio    0\n",
      "black      0\n",
      "lstat      0\n",
      "medv       0\n",
      "dtype: int64\n",
      "   num     crim    zn  indus  chas    nox     rm   age     dis  rad  tax  \\\n",
      "0    1  0.00632  18.0   2.31     0  0.538  6.575  65.2  4.0900    1  296   \n",
      "1    2  0.02731   0.0   7.07     0  0.469  6.421  78.9  4.9671    2  242   \n",
      "2    3  0.02729   0.0   7.07     0  0.469  7.185  61.1  4.9671    2  242   \n",
      "3    4  0.03237   0.0   2.18     0  0.458  6.998  45.8  6.0622    3  222   \n",
      "4    5  0.06905   0.0   2.18     0  0.458  7.147  54.2  6.0622    3  222   \n",
      "\n",
      "   ptratio   black  lstat  medv  \n",
      "0     15.3  396.90   4.98  24.0  \n",
      "1     17.8  396.90   9.14  21.6  \n",
      "2     17.8  392.83   4.03  34.7  \n",
      "3     18.7  394.63   2.94  33.4  \n",
      "4     18.7  396.90   5.33  36.2  \n"
     ]
    }
   ],
   "source": [
    "x_train, x_test, y_train, y_test=load_dataset(\"Boston.csv\")"
   ]
  },
  {
   "cell_type": "code",
   "execution_count": 10,
   "metadata": {},
   "outputs": [],
   "source": [
    "def rmse(predictions, targets):\n",
    "    import numpy as np\n",
    "    differences = predictions - targets      \n",
    "\n",
    "    differences_squared = differences ** 2                    \n",
    "\n",
    "    mean_of_differences_squared = differences_squared.mean()  \n",
    "\n",
    "    rmse_val = np.sqrt(mean_of_differences_squared)           \n",
    "\n",
    "    return rmse_val   \n"
   ]
  },
  {
   "cell_type": "markdown",
   "metadata": {},
   "source": [
    "## predictions for the test data set using the following six regression methods: \n",
    "\n"
   ]
  },
  {
   "cell_type": "code",
   "execution_count": 20,
   "metadata": {},
   "outputs": [],
   "source": [
    "def random_forest(x_train, x_test, y_train, y_test):\n",
    "    import pandas as pd\n",
    "    from sklearn.ensemble import RandomForestRegressor\n",
    "    from sklearn.model_selection import cross_val_score\n",
    "    import numpy as np\n",
    "     #application of an iterative way to find the optimal estimator for the optimal performance of the method in our data.\n",
    "     # The selection was made based on the smallest mean squared error.\n",
    "    import math\n",
    "    from math import sqrt\n",
    "    from sklearn.metrics import mean_squared_error\n",
    "    rmse_val = []\n",
    "    for K in range(50):\n",
    "        K = K+1\n",
    "        re= RandomForestRegressor(n_estimators = K , random_state=0)\n",
    "\n",
    "        re.fit(x_train,y_train)  #fit the model\n",
    "        pred=re.predict(x_test) #make prediction on test set\n",
    "        error = math.sqrt(mean_squared_error(y_test,pred)) #calculate rmse\n",
    "        rmse_val.append(error) #store rmse values\n",
    "        print('RMSE value for k= ' , K , 'is:', error)\n",
    "\n",
    "\n",
    "\n",
    "    ##diagram of each mean squared error for each estimator\n",
    "    curve = pd.DataFrame(rmse_val) \n",
    "    curve.plot()\n",
    "\n",
    "\n",
    "# we found that the value of the estimator that gives the smallest mean squared error is 46\n",
    "    import numpy\n",
    "    from sklearn.metrics import mean_absolute_error\n",
    "    list_1=[]\n",
    "    rmse_rf=[]\n",
    "    mae_rf=[]\n",
    "    accuracy=[]\n",
    "    for i in range(1,20):\n",
    "\n",
    "        re= RandomForestRegressor(n_estimators = 46 , min_samples_leaf=i,random_state=0)\n",
    "        re.fit(x_train,y_train)\n",
    "        scores = cross_val_score(re, x_train, y_train, cv=5)\n",
    "        accuracy.append(scores.mean())\n",
    "\n",
    "        pred=re.predict(x_test) #make prediction on test set\n",
    "        error_rmse=rmse(pred, y_test)\n",
    "        error_mae=mean_absolute_error(y_test, pred)\n",
    "        mae_rf.append(error_mae)\n",
    "        rmse_rf.append(error_rmse) #store rmse values\n",
    "\n",
    "    print(\"accuracy: \",sum(accuracy)/len(accuracy))\n",
    "    print(\"mae for random forest regression\",sum(mae_rf) / len(mae_rf))  \n",
    "    print(\"rmse for random forest regression\",sum(rmse_rf) / len(rmse_rf))    \n",
    "        #y_pr = re.predict((x_test))\n",
    "        # we chose r squared as a measure to evaluate the performance of each method\n",
    "         # R ^ 2 is a statistical measure of the percentage of variance for a dependent variable explained by \n",
    "         #an independent variable or variables in regression mode.\n",
    "       # from sklearn import metrics\n",
    "        #score1 = metrics.r2_score(y_test,y_pr)\n",
    "        #score1\n",
    "    return mae_rf,rmse_rf"
   ]
  },
  {
   "cell_type": "code",
   "execution_count": 21,
   "metadata": {},
   "outputs": [
    {
     "name": "stdout",
     "output_type": "stream",
     "text": [
      "RMSE value for k=  1 is: 4.695492206236055\n",
      "RMSE value for k=  2 is: 3.5252103260851335\n",
      "RMSE value for k=  3 is: 3.458493381602491\n",
      "RMSE value for k=  4 is: 3.8136734773911702\n",
      "RMSE value for k=  5 is: 3.910451054671365\n",
      "RMSE value for k=  6 is: 3.6083580506029005\n",
      "RMSE value for k=  7 is: 3.582910115807985\n",
      "RMSE value for k=  8 is: 3.71304647889193\n",
      "RMSE value for k=  9 is: 3.586540845441515\n",
      "RMSE value for k=  10 is: 3.678027097960717\n",
      "RMSE value for k=  11 is: 3.7306874276126907\n",
      "RMSE value for k=  12 is: 3.6388401184178734\n",
      "RMSE value for k=  13 is: 3.57782315667417\n",
      "RMSE value for k=  14 is: 3.461179192784133\n",
      "RMSE value for k=  15 is: 3.2924014320162245\n",
      "RMSE value for k=  16 is: 3.276106846899826\n",
      "RMSE value for k=  17 is: 3.2267828171740316\n",
      "RMSE value for k=  18 is: 3.218070065354974\n",
      "RMSE value for k=  19 is: 3.2496226326081006\n",
      "RMSE value for k=  20 is: 3.2508284766061903\n",
      "RMSE value for k=  21 is: 3.230291545502222\n",
      "RMSE value for k=  22 is: 3.1975745598740386\n",
      "RMSE value for k=  23 is: 3.187887319310584\n",
      "RMSE value for k=  24 is: 3.2059480193675487\n",
      "RMSE value for k=  25 is: 3.178969718413221\n",
      "RMSE value for k=  26 is: 3.162805075221202\n",
      "RMSE value for k=  27 is: 3.148506366052323\n",
      "RMSE value for k=  28 is: 3.1473860846210573\n",
      "RMSE value for k=  29 is: 3.133035229288968\n",
      "RMSE value for k=  30 is: 3.1095534849584108\n",
      "RMSE value for k=  31 is: 3.1126892953464584\n",
      "RMSE value for k=  32 is: 3.075906576542341\n",
      "RMSE value for k=  33 is: 3.084311562956892\n",
      "RMSE value for k=  34 is: 3.0757531014238864\n",
      "RMSE value for k=  35 is: 3.0630447886622463\n",
      "RMSE value for k=  36 is: 3.049840825975351\n",
      "RMSE value for k=  37 is: 3.0663600433195417\n",
      "RMSE value for k=  38 is: 3.0497702307157\n",
      "RMSE value for k=  39 is: 3.0507702018183704\n",
      "RMSE value for k=  40 is: 3.051186264807349\n",
      "RMSE value for k=  41 is: 3.0539450661085867\n",
      "RMSE value for k=  42 is: 3.0536648296761792\n",
      "RMSE value for k=  43 is: 3.0274397283013648\n",
      "RMSE value for k=  44 is: 3.004160439544478\n",
      "RMSE value for k=  45 is: 3.00588920864368\n",
      "RMSE value for k=  46 is: 2.9834771852867563\n",
      "RMSE value for k=  47 is: 2.983697944059798\n",
      "RMSE value for k=  48 is: 2.9891239171267223\n",
      "RMSE value for k=  49 is: 3.003877325235406\n",
      "RMSE value for k=  50 is: 3.0009512348129705\n",
      "accuracy:  0.7949994812597537\n",
      "mae for random forest regression 2.7780028496171063\n",
      "rmse for random forest regression 3.670417183202814\n"
     ]
    },
    {
     "data": {
      "image/png": "[encoded data removed]",
      "text/plain": [
       "<Figure size 432x288 with 1 Axes>"
      ]
     },
     "metadata": {
      "needs_background": "light"
     },
     "output_type": "display_data"
    }
   ],
   "source": [
    "mae_rf,rmse_rf = random_forest(x_train, x_test, y_train, y_test)"
   ]
  },
  {
   "cell_type": "code",
   "execution_count": 22,
   "metadata": {},
   "outputs": [],
   "source": [
    "def gpr(x_train, x_test, y_train, y_test):\n",
    "    \n",
    "    from sklearn.gaussian_process import GaussianProcessRegressor\n",
    "    from sklearn.gaussian_process import GaussianProcessRegressor\n",
    "    from sklearn.gaussian_process.kernels import RBF, ConstantKernel as C\n",
    "    from sklearn.gaussian_process.kernels import DotProduct, WhiteKernel\n",
    "    from sklearn.model_selection import cross_val_score\n",
    "    from sklearn.metrics import mean_squared_error\n",
    "    from sklearn.metrics import mean_absolute_error\n",
    "\n",
    "\n",
    "    rmse_rf=[]\n",
    "    mae_rf=[]\n",
    "    kernel = C(1.0,(.1,10))+ C(1.0,(.1,10)) * RBF(10,(.1,100))+ WhiteKernel(5, (.5,50) )\n",
    "    gpr = GaussianProcessRegressor(kernel=kernel, n_restarts_optimizer=9)\n",
    "    gpr.fit(x_train, y_train)\n",
    "    scores = cross_val_score(gpr, x_train, y_train, cv=5)\n",
    "    y_pr = gpr.predict((x_test))\n",
    "    rmse_gpr=rmse(y_pr, y_test)\n",
    "    mae_gpr=mean_absolute_error(y_test, y_pr)\n",
    "    print(\"rmse for gaussian regression\",rmse_gpr)\n",
    "    print(\"mae for gaussian regression\",mae_gpr)\n",
    "    print(\"scores of cross validation:\",scores)\n",
    "    print(\"accuracy of gaussion regression: \",scores.mean())\n",
    "    \n",
    "    return mae_gpr,rmse_gpr"
   ]
  },
  {
   "cell_type": "code",
   "execution_count": 23,
   "metadata": {},
   "outputs": [
    {
     "name": "stdout",
     "output_type": "stream",
     "text": [
      "rmse for gaussian regression 7.421037125010805\n",
      "mae for gaussian regression 4.90020174780674\n",
      "scores of cross validation: [0.43815203 0.40584445 0.4969146  0.29624834 0.39828498]\n",
      "accuracy of gaussion regression:  0.4070888808741264\n"
     ]
    }
   ],
   "source": [
    "mae_gpr,rmse_gpr = gpr(x_train, x_test, y_train, y_test)"
   ]
  },
  {
   "cell_type": "code",
   "execution_count": 30,
   "metadata": {},
   "outputs": [],
   "source": [
    "def ridge(x_train, x_test, y_train, y_test):\n",
    "    from sklearn.metrics import mean_absolute_error\n",
    "    from sklearn.linear_model import Ridge\n",
    "    from sklearn.model_selection import cross_val_score\n",
    "    list_1 = [0.001,0.01,0.1,1,10]\n",
    "    rmse_ridge=[] \n",
    "    mae_ridge=[]\n",
    "    accuracy=[]\n",
    "    for i in range(0, len(list_1)) :\n",
    "        clf = Ridge(alpha=i)\n",
    "        clf.fit(x_train, y_train)\n",
    "        scores = cross_val_score(clf, x_train, y_train, cv=5)\n",
    "        accuracy.append(scores.mean())\n",
    "        y_pr = clf.predict(x_test)\n",
    "        error_rmse=rmse(y_pr, y_test)\n",
    "        rmse_ridge.append(error_rmse)\n",
    "        error_mae=mean_absolute_error(y_test, y_pr)\n",
    "        mae_ridge.append(error_mae)\n",
    "\n",
    "        #y_pr = clf.predict((x_test))\n",
    "        #score3 = metrics.r2_score(y_test,y_pr)\n",
    "        #score3\n",
    "    print(\"scores of cross validation: \",accuracy) \n",
    "    print(\"accuracy of ridge regression\",sum(accuracy)/len(accuracy))\n",
    "    print(\"rmse for ridge regression:\",sum(rmse_ridge) / len(rmse_ridge)) \n",
    "    print(\"mae for ridge regression:\",sum(mae_ridge) / len(mae_ridge)) \n",
    "    \n",
    "    return mae_ridge,rmse_ridge\n"
   ]
  },
  {
   "cell_type": "code",
   "execution_count": 31,
   "metadata": {},
   "outputs": [
    {
     "name": "stdout",
     "output_type": "stream",
     "text": [
      "scores of cross validation:  [0.7033270885445654, 0.6997862782412771, 0.6968873083567823, 0.695203228126568, 0.6941451774198983]\n",
      "accuracy of ridge regression 0.6978698161378182\n",
      "rmse for ridge regression: 4.826446260134809\n",
      "mae for ridge regression: 3.7042080450296675\n"
     ]
    }
   ],
   "source": [
    "mae_ridge,rmse_ridge = ridge(x_train, x_test, y_train, y_test)"
   ]
  },
  {
   "cell_type": "code",
   "execution_count": 38,
   "metadata": {},
   "outputs": [],
   "source": [
    "def knn_regr(x_train, x_test, y_train, y_test):\n",
    "    import pandas as pd\n",
    "    import numpy as np\n",
    "    from sklearn.model_selection import cross_val_score\n",
    "    from sklearn.metrics import mean_absolute_error\n",
    "    #KNN regression\n",
    "    from sklearn.neighbors import NearestNeighbors,KNeighborsRegressor\n",
    "\n",
    "    #code to find the optimal k based on mean squared error.\n",
    "    import math\n",
    "    from math import sqrt\n",
    "    from sklearn.metrics import mean_squared_error\n",
    "    rmse_val = []\n",
    "    for K in range(19):\n",
    "        K = K+1\n",
    "        knn = KNeighborsRegressor(K)\n",
    "\n",
    "        knn.fit(x_train,y_train)  #fit the model\n",
    "        pred=knn.predict(x_test) #make prediction on test set\n",
    "        error = math.sqrt(mean_squared_error(y_test,pred)) #calculate rmse\n",
    "        rmse_val.append(error) #store rmse values\n",
    "        print('RMSE value for k= ' , K , 'is:', error)\n",
    "\n",
    "    curve = pd.DataFrame(rmse_val) \n",
    "    curve.plot()    \n",
    "\n",
    "\n",
    "    rmse_knn=[] \n",
    "    mae_knn=[]\n",
    "\n",
    "\n",
    "    knn = KNeighborsRegressor(3)\n",
    "    knn.fit(x_train,y_train)  #fit the model\n",
    "    scores = cross_val_score(knn, x_train, y_train, cv=5)\n",
    "    print(scores)\n",
    "\n",
    "    y_pr = knn.predict((x_test))\n",
    "    error_rmse=rmse(y_pr, y_test)\n",
    "    rmse_knn.append(error_rmse)\n",
    "    error_mae=mean_absolute_error(y_test, y_pr)\n",
    "    mae_knn.append(error_mae)\n",
    "\n",
    "    print(\"rmse for ridge regression:\",sum(rmse_knn) / len(rmse_knn)) \n",
    "    print(\"mae for ridge regression:\",sum(mae_knn) / len(mae_knn)) \n",
    "\n",
    "    #y_predict = knn.predict(x_test)\n",
    "    #score4 = metrics.r2_score(y_test,y_predict)\n",
    "    #score4\n",
    "    \n",
    "    return mae_knn,rmse_knn"
   ]
  },
  {
   "cell_type": "code",
   "execution_count": 39,
   "metadata": {},
   "outputs": [
    {
     "name": "stdout",
     "output_type": "stream",
     "text": [
      "RMSE value for k=  1 is: 7.378326767116847\n",
      "RMSE value for k=  2 is: 6.60875644616337\n",
      "RMSE value for k=  3 is: 6.036321615788664\n",
      "RMSE value for k=  4 is: 6.118597594188381\n",
      "RMSE value for k=  5 is: 6.260538096274311\n",
      "RMSE value for k=  6 is: 6.331047058958345\n",
      "RMSE value for k=  7 is: 6.551695038931014\n",
      "RMSE value for k=  8 is: 6.49142392382623\n",
      "RMSE value for k=  9 is: 6.568484075869437\n",
      "RMSE value for k=  10 is: 6.694528055236824\n",
      "RMSE value for k=  11 is: 6.872739061944635\n",
      "RMSE value for k=  12 is: 7.101420774412015\n",
      "RMSE value for k=  13 is: 7.233755560911977\n",
      "RMSE value for k=  14 is: 7.324692515606321\n",
      "RMSE value for k=  15 is: 7.352703176976112\n",
      "RMSE value for k=  16 is: 7.40324275010024\n",
      "RMSE value for k=  17 is: 7.432489698222719\n",
      "RMSE value for k=  18 is: 7.466632321252318\n",
      "RMSE value for k=  19 is: 7.579612955953311\n",
      "[0.49482001 0.50666524 0.54203907 0.61485019 0.61911609]\n",
      "rmse for ridge regression: 6.036321615788664\n",
      "mae for ridge regression: 4.003594771241831\n"
     ]
    },
    {
     "data": {
      "image/png": "[encoded data removed]",
      "text/plain": [
       "<Figure size 432x288 with 1 Axes>"
      ]
     },
     "metadata": {
      "needs_background": "light"
     },
     "output_type": "display_data"
    }
   ],
   "source": [
    "mae_knn,rmse_knn=knn_regr(x_train, x_test, y_train, y_test)"
   ]
  },
  {
   "cell_type": "code",
   "execution_count": 41,
   "metadata": {},
   "outputs": [],
   "source": [
    "def mlp(x_train, x_test, y_train, y_test):\n",
    "    import pandas as pd\n",
    "    import numpy as np\n",
    "    from sklearn.model_selection import cross_val_score\n",
    "    from sklearn.metrics import mean_absolute_error\n",
    "    \n",
    "    from sklearn.neural_network import MLPRegressor\n",
    "    from sklearn import metrics\n",
    "\n",
    "    rmse_mlp=[] \n",
    "    mae_mlp=[]\n",
    "    accuracy=[]\n",
    "\n",
    "    list_1 = [1,5,10,20,50,100]\n",
    "    #if we use the sigmoid function as our  activation function, we do not have an efficient model.\n",
    "    #the same for tanh\n",
    "    #as learning rate i used the default value, and max_iter=700\n",
    "    #if we choose as solver=lbfgs we take imbalanced results from negative to too good(75%)\n",
    "    for i in list_1:\n",
    "        print(i)\n",
    "        regr = MLPRegressor(hidden_layer_sizes=i, activation='tanh', solver='lbfgs',alpha=0.01,learning_rate_init=0.001,max_iter=50000)\n",
    "        regr.fit(x_train, y_train)\n",
    "        scores = cross_val_score(regr, x_train, y_train, cv=5)\n",
    "        accuracy.append(scores.mean())\n",
    "        y_pr = regr.predict((x_test))\n",
    "        error_rmse=rmse(y_pr, y_test)\n",
    "        rmse_mlp.append(error_rmse)\n",
    "        error_mae=mean_absolute_error(y_test, y_pr)\n",
    "        mae_mlp.append(error_mae)\n",
    "\n",
    "\n",
    "    print(\"scores of cross validation: \",accuracy) \n",
    "    print(\"accuracy of ridge regression\",sum(accuracy)/len(accuracy))    \n",
    "    print(\"rmse for ridge regression:\",sum(rmse_mlp) / len(rmse_mlp)) \n",
    "    print(\"mae for ridge regression:\",sum(mae_mlp) / len(mae_mlp))     \n",
    "    #y_predict = regr.predict(x_test)\n",
    "    #score5 = metrics.r2_score(y_test,y_predict)\n",
    "    #score5\n",
    "    \n",
    "    return mae_mlp,rmse_mlp"
   ]
  },
  {
   "cell_type": "code",
   "execution_count": 42,
   "metadata": {},
   "outputs": [
    {
     "name": "stdout",
     "output_type": "stream",
     "text": [
      "1\n",
      "5\n",
      "10\n",
      "20\n",
      "50\n",
      "100\n",
      "scores of cross validation:  [0.02842737444569503, 0.13624474017055235, 0.0703259080172101, 0.32414391760855654, 0.6807355989856628, 0.6931991698485334]\n",
      "accuracy of ridge regression 0.3221794515127017\n",
      "rmse for ridge regression: 6.712332278852487\n",
      "mae for ridge regression: 4.80167710980202\n"
     ]
    }
   ],
   "source": [
    "mae_mlp,rmse_mlp = mlp(x_train, x_test, y_train, y_test)"
   ]
  },
  {
   "cell_type": "code",
   "execution_count": 43,
   "metadata": {},
   "outputs": [],
   "source": [
    "#the calculation of the mean squared error and the mean absolute error executed in problem 2 \n"
   ]
  },
  {
   "cell_type": "markdown",
   "metadata": {},
   "source": [
    "## The same for the diabetes dataset"
   ]
  },
  {
   "cell_type": "code",
   "execution_count": 9,
   "metadata": {},
   "outputs": [
    {
     "name": "stdout",
     "output_type": "stream",
     "text": [
      "Pregnancies                 0\n",
      "Glucose                     0\n",
      "BloodPressure               0\n",
      "SkinThickness               0\n",
      "Insulin                     0\n",
      "BMI                         0\n",
      "DiabetesPedigreeFunction    0\n",
      "Age                         0\n",
      "Outcome                     0\n",
      "dtype: int64\n",
      "   Pregnancies  Glucose  BloodPressure  SkinThickness  Insulin   BMI  \\\n",
      "0            6      148             72             35        0  33.6   \n",
      "1            1       85             66             29        0  26.6   \n",
      "2            8      183             64              0        0  23.3   \n",
      "3            1       89             66             23       94  28.1   \n",
      "4            0      137             40             35      168  43.1   \n",
      "\n",
      "   DiabetesPedigreeFunction  Age  Outcome  \n",
      "0                     0.627   50        1  \n",
      "1                     0.351   31        0  \n",
      "2                     0.672   32        1  \n",
      "3                     0.167   21        0  \n",
      "4                     2.288   33        1  \n"
     ]
    }
   ],
   "source": [
    "x_train, x_test, y_train, y_test=load_dataset(\"diabetes.csv\")\n"
   ]
  },
  {
   "cell_type": "code",
   "execution_count": 122,
   "metadata": {},
   "outputs": [],
   "source": [
    "def random_forest_clf(x_train, x_test, y_train, y_test):\n",
    "    import pandas as pd\n",
    "    from sklearn.ensemble import RandomForestClassifier\n",
    "    from sklearn.model_selection import cross_val_score\n",
    "    import numpy as np\n",
    "     #application of an iterative way to find the optimal estimator for the optimal performance of the method in our data.\n",
    "     # The selection was made based on the smallest mean squared error.\n",
    "    import math\n",
    "    from math import sqrt\n",
    "    from sklearn.metrics import mean_squared_error\n",
    "    rmse_val = []\n",
    "    for K in range(50):\n",
    "        K = K+1\n",
    "        re= RandomForestClassifier(n_estimators = K , random_state=0)\n",
    "\n",
    "        re.fit(x_train,y_train)  #fit the model\n",
    "        pred=re.predict(x_test) #make prediction on test set\n",
    "        error = math.sqrt(mean_squared_error(y_test,pred)) #calculate rmse\n",
    "        rmse_val.append(error) #store rmse values\n",
    "        print('RMSE value for k= ' , K , 'is:', error)\n",
    "\n",
    "\n",
    "\n",
    "## diagram of each mean squared error for each estimator\n",
    "    curve = pd.DataFrame(rmse_val) \n",
    "    curve.plot()\n",
    "\n",
    "\n",
    "# we found that the value of the estimator that gives the smallest mean squared error is 46\n",
    "    import numpy\n",
    "    from sklearn.metrics import mean_absolute_error\n",
    "    list_1=[]\n",
    "    rmse_rf=[]\n",
    "    mae_rf=[]\n",
    "    accuracy=[]\n",
    "    for i in range(1,20):\n",
    "\n",
    "        re= RandomForestClassifier(n_estimators = 8 , min_samples_leaf=i,random_state=0)\n",
    "        re.fit(x_train,y_train)\n",
    "        scores = cross_val_score(re, x_train, y_train, cv=5)\n",
    "        accuracy.append(scores.mean())\n",
    "\n",
    "        pred=re.predict(x_test) #make prediction on test set\n",
    "        error_rmse=rmse(pred, y_test)\n",
    "        error_mae=mean_absolute_error(y_test, pred)\n",
    "        mae_rf.append(error_mae)\n",
    "        rmse_rf.append(error_rmse) #store rmse values\n",
    "\n",
    "    print(\"accuracy: \",sum(accuracy)/len(accuracy))\n",
    "    print(\"mae for random forest classification\",sum(mae_rf) / len(mae_rf))  \n",
    "    print(\"rmse for random forest classification\",sum(rmse_rf) / len(rmse_rf))    \n",
    "        #y_pr = re.predict((x_test))\n",
    "        # we chose r squared as a measure to evaluate the performance of each method\n",
    "         # R ^ 2 is a statistical measure of the percentage of variance for a dependent variable\n",
    "         # explained by an independent variable or variables in regression mode.\n",
    "       # from sklearn import metrics\n",
    "        #score1 = metrics.r2_score(y_test,y_pr)\n",
    "        #score1\n",
    "    return mae_rf,rmse_rf"
   ]
  },
  {
   "cell_type": "code",
   "execution_count": 65,
   "metadata": {},
   "outputs": [],
   "source": [
    "def gpr_clf(x_train, x_test, y_train, y_test):\n",
    "    \n",
    "    from sklearn.gaussian_process import GaussianProcessClassifier\n",
    "    from sklearn.gaussian_process.kernels import RBF, ConstantKernel as C\n",
    "    from sklearn.gaussian_process.kernels import DotProduct, WhiteKernel\n",
    "    from sklearn.model_selection import cross_val_score\n",
    "    from sklearn.metrics import mean_squared_error\n",
    "    from sklearn.metrics import mean_absolute_error\n",
    "\n",
    "\n",
    "    rmse_rf=[]\n",
    "    mae_rf=[]\n",
    "    kernel = C(1.0,(.1,10))+ C(1.0,(.1,10)) * RBF(10,(.1,100))+ WhiteKernel(5, (.5,50) )\n",
    "    gpr = GaussianProcessClassifier(kernel=kernel, n_restarts_optimizer=9)\n",
    "    gpr.fit(x_train, y_train)\n",
    "    scores = cross_val_score(gpr, x_train, y_train, cv=5)\n",
    "    y_pr = gpr.predict((x_test))\n",
    "    rmse_gpr=rmse(y_pr, y_test)\n",
    "    mae_gpr=mean_absolute_error(y_test, y_pr)\n",
    "    print(\"rmse for gaussian classification\",rmse_gpr)\n",
    "    print(\"mae for gaussian classification\",mae_gpr)\n",
    "    print(\"scores of cross validation:\",scores)\n",
    "    print(\"accuracy of gaussion regression: \",scores.mean())\n",
    "    \n",
    "    return mae_gpr,rmse_gpr"
   ]
  },
  {
   "cell_type": "code",
   "execution_count": 68,
   "metadata": {},
   "outputs": [],
   "source": [
    "def ridge_clf(x_train, x_test, y_train, y_test):\n",
    "    from sklearn.metrics import mean_absolute_error\n",
    "    from sklearn.linear_model import RidgeClassifier\n",
    "    from sklearn.model_selection import cross_val_score\n",
    "    list_1 = [0.001,0.01,0.1,1,10]\n",
    "    rmse_ridge=[] \n",
    "    mae_ridge=[]\n",
    "    accuracy=[]\n",
    "    for i in range(0, len(list_1)) :\n",
    "        clf = RidgeClassifier(alpha=i)\n",
    "        clf.fit(x_train, y_train)\n",
    "        scores = cross_val_score(clf, x_train, y_train, cv=5)\n",
    "        accuracy.append(scores.mean())\n",
    "        y_pr = clf.predict(x_test)\n",
    "        error_rmse=rmse(y_pr, y_test)\n",
    "        rmse_ridge.append(error_rmse)\n",
    "        error_mae=mean_absolute_error(y_test, y_pr)\n",
    "        mae_ridge.append(error_mae)\n",
    "\n",
    "        #y_pr = clf.predict((x_test))\n",
    "        #score3 = metrics.r2_score(y_test,y_pr)\n",
    "        #score3\n",
    "    print(\"scores of cross validation: \",accuracy) \n",
    "    print(\"accuracy of ridge classification\",sum(accuracy)/len(accuracy))\n",
    "    print(\"rmse for ridge classification:\",sum(rmse_ridge) / len(rmse_ridge)) \n",
    "    print(\"mae for ridge classification:\",sum(mae_ridge) / len(mae_ridge)) \n",
    "    \n",
    "    return mae_ridge,rmse_ridge"
   ]
  },
  {
   "cell_type": "code",
   "execution_count": 136,
   "metadata": {},
   "outputs": [],
   "source": [
    "def knn_clf(x_train, x_test, y_train, y_test):\n",
    "    import pandas as pd\n",
    "    import numpy as np\n",
    "    from sklearn.model_selection import cross_val_score\n",
    "    from sklearn.metrics import mean_absolute_error\n",
    "    #Εφαρμογή πσλινδρόμισης KNN\n",
    "    from sklearn.neighbors import KNeighborsClassifier\n",
    "\n",
    "#code to find the optimal k based on mean squared error.\n",
    "    import math\n",
    "    from math import sqrt\n",
    "    from sklearn.metrics import mean_squared_error\n",
    "    rmse_val = []\n",
    "    for K in range(19):\n",
    "        K = K+1\n",
    "        knn = KNeighborsClassifier(K)\n",
    "\n",
    "        knn.fit(x_train,y_train)  #fit the model\n",
    "        pred=knn.predict(x_test) #make prediction on test set\n",
    "        error = math.sqrt(mean_squared_error(y_test,pred)) #calculate rmse\n",
    "        rmse_val.append(error) #store rmse values\n",
    "        print('RMSE value for k= ' , K , 'is:', error)\n",
    "\n",
    "    curve = pd.DataFrame(rmse_val) \n",
    "    curve.plot()    \n",
    "\n",
    "\n",
    "    rmse_knn=[] \n",
    "    mae_knn=[]\n",
    "\n",
    "\n",
    "    knn = KNeighborsClassifier(8)\n",
    "    knn.fit(x_train,y_train)  #fit the model\n",
    "    scores = cross_val_score(knn, x_train, y_train, cv=5)\n",
    "    print(scores)\n",
    "\n",
    "    y_pr = knn.predict((x_test))\n",
    "    error_rmse=rmse(y_pr, y_test)\n",
    "    rmse_knn.append(error_rmse)\n",
    "    error_mae=mean_absolute_error(y_test, y_pr)\n",
    "    mae_knn.append(error_mae)\n",
    "    \n",
    "    \n",
    "    print(\"scores of cross validation: \",scores) \n",
    "    print(\"accuracy of r classification\",sum(scores)/len(scores))\n",
    "    print(\"rmse for knn classification:\",sum(rmse_knn) / len(rmse_knn)) \n",
    "    print(\"mae for knn classification:\",sum(mae_knn) / len(mae_knn)) \n",
    "\n",
    "    #y_predict = knn.predict(x_test)\n",
    "    #score4 = metrics.r2_score(y_test,y_predict)\n",
    "    #score4\n",
    "    \n",
    "    return mae_knn,rmse_knn"
   ]
  },
  {
   "cell_type": "code",
   "execution_count": 70,
   "metadata": {},
   "outputs": [],
   "source": [
    "def mlp_clf(x_train, x_test, y_train, y_test):\n",
    "    import pandas as pd\n",
    "    import numpy as np\n",
    "    from sklearn.model_selection import cross_val_score\n",
    "    from sklearn.metrics import mean_absolute_error\n",
    "    \n",
    "    from sklearn.neural_network import MLPClassifier\n",
    "    from sklearn import metrics\n",
    "\n",
    "    rmse_mlp=[] \n",
    "    mae_mlp=[]\n",
    "    accuracy=[]\n",
    "\n",
    "    list_1 = [1,5,10,20,50,100]\n",
    "    #if we use the sigmoid function as our  activation function, we do not have an efficient model.\n",
    "    #the same for tanh\n",
    "    #as learning rate i used the default value, and max_iter=700\n",
    "    #if we choose as solver=lbfgs we take imbalanced results from negative to too good(75%)\n",
    "    for i in list_1:\n",
    "        print(i)\n",
    "        regr = MLPClassifier(hidden_layer_sizes=i, activation='tanh', solver='lbfgs',alpha=0.01,learning_rate_init=0.001,max_iter=50000)\n",
    "        regr.fit(x_train, y_train)\n",
    "        scores = cross_val_score(regr, x_train, y_train, cv=5)\n",
    "        accuracy.append(scores.mean())\n",
    "        y_pr = regr.predict((x_test))\n",
    "        error_rmse=rmse(y_pr, y_test)\n",
    "        rmse_mlp.append(error_rmse)\n",
    "        error_mae=mean_absolute_error(y_test, y_pr)\n",
    "        mae_mlp.append(error_mae)\n",
    "\n",
    "\n",
    "    print(\"scores of cross validation: \",accuracy) \n",
    "    print(\"accuracy of mlp classification\",sum(accuracy)/len(accuracy))    \n",
    "    print(\"rmse for mlp classification:\",sum(rmse_mlp) / len(rmse_mlp)) \n",
    "    print(\"mae for mlp classification:\",sum(mae_mlp) / len(mae_mlp))     \n",
    "    #y_predict = regr.predict(x_test)\n",
    "    #score5 = metrics.r2_score(y_test,y_predict)\n",
    "    #score5\n",
    "    \n",
    "    return mae_mlp,rmse_mlp"
   ]
  },
  {
   "cell_type": "code",
   "execution_count": null,
   "metadata": {},
   "outputs": [],
   "source": []
  },
  {
   "cell_type": "code",
   "execution_count": 108,
   "metadata": {},
   "outputs": [
    {
     "name": "stdout",
     "output_type": "stream",
     "text": [
      "RMSE value for k=  1 is: 0.5345224838248488\n",
      "RMSE value for k=  2 is: 0.5032362797401965\n",
      "RMSE value for k=  3 is: 0.496742636335202\n",
      "RMSE value for k=  4 is: 0.5032362797401965\n",
      "RMSE value for k=  5 is: 0.4901629731627434\n",
      "RMSE value for k=  6 is: 0.4901629731627434\n",
      "RMSE value for k=  7 is: 0.4698714938993648\n",
      "RMSE value for k=  8 is: 0.4413674147523748\n",
      "RMSE value for k=  9 is: 0.4629100498862757\n",
      "RMSE value for k=  10 is: 0.4558423058385518\n",
      "RMSE value for k=  11 is: 0.4558423058385518\n",
      "RMSE value for k=  12 is: 0.4558423058385518\n",
      "RMSE value for k=  13 is: 0.44866323818505716\n",
      "RMSE value for k=  14 is: 0.4698714938993648\n",
      "RMSE value for k=  15 is: 0.4629100498862757\n",
      "RMSE value for k=  16 is: 0.4629100498862757\n",
      "RMSE value for k=  17 is: 0.44866323818505716\n",
      "RMSE value for k=  18 is: 0.4558423058385518\n",
      "RMSE value for k=  19 is: 0.4413674147523748\n",
      "RMSE value for k=  20 is: 0.4558423058385518\n",
      "RMSE value for k=  21 is: 0.4629100498862757\n",
      "RMSE value for k=  22 is: 0.4698714938993648\n",
      "RMSE value for k=  23 is: 0.4629100498862757\n",
      "RMSE value for k=  24 is: 0.4767312946227962\n",
      "RMSE value for k=  25 is: 0.4629100498862757\n",
      "RMSE value for k=  26 is: 0.4767312946227962\n",
      "RMSE value for k=  27 is: 0.48349377841522817\n",
      "RMSE value for k=  28 is: 0.4767312946227962\n",
      "RMSE value for k=  29 is: 0.4698714938993648\n",
      "RMSE value for k=  30 is: 0.48349377841522817\n",
      "RMSE value for k=  31 is: 0.4698714938993648\n",
      "RMSE value for k=  32 is: 0.44866323818505716\n",
      "RMSE value for k=  33 is: 0.4629100498862757\n",
      "RMSE value for k=  34 is: 0.4558423058385518\n",
      "RMSE value for k=  35 is: 0.4558423058385518\n",
      "RMSE value for k=  36 is: 0.4413674147523748\n",
      "RMSE value for k=  37 is: 0.44866323818505716\n",
      "RMSE value for k=  38 is: 0.4629100498862757\n",
      "RMSE value for k=  39 is: 0.4767312946227962\n",
      "RMSE value for k=  40 is: 0.4629100498862757\n",
      "RMSE value for k=  41 is: 0.4767312946227962\n",
      "RMSE value for k=  42 is: 0.44866323818505716\n",
      "RMSE value for k=  43 is: 0.4767312946227962\n",
      "RMSE value for k=  44 is: 0.4629100498862757\n",
      "RMSE value for k=  45 is: 0.4698714938993648\n",
      "RMSE value for k=  46 is: 0.44866323818505716\n",
      "RMSE value for k=  47 is: 0.4629100498862757\n",
      "RMSE value for k=  48 is: 0.4629100498862757\n",
      "RMSE value for k=  49 is: 0.4558423058385518\n",
      "RMSE value for k=  50 is: 0.44866323818505716\n",
      "accuracy:  0.7423409583535006\n",
      "mae for random forest classification 0.20710868079289133\n",
      "rmse for random forest classification 0.4547305292107707\n"
     ]
    },
    {
     "data": {
      "image/png": "[encoded data removed]",
      "text/plain": [
       "<Figure size 432x288 with 1 Axes>"
      ]
     },
     "metadata": {
      "needs_background": "light"
     },
     "output_type": "display_data"
    }
   ],
   "source": [
    "mae_rf,rmse_rf = random_forest_clf(x_train, x_test, y_train, y_test)"
   ]
  },
  {
   "cell_type": "code",
   "execution_count": 109,
   "metadata": {},
   "outputs": [
    {
     "name": "stdout",
     "output_type": "stream",
     "text": [
      "rmse for gaussian classification 0.4629100498862757\n",
      "mae for gaussian classification 0.21428571428571427\n",
      "scores of cross validation: [0.76422764 0.80487805 0.70731707 0.73170732 0.77868852]\n",
      "accuracy of gaussion regression:  0.7573637211781954\n"
     ]
    }
   ],
   "source": [
    "mae_gpr,rmse_gpr = gpr_clf(x_train, x_test, y_train, y_test)"
   ]
  },
  {
   "cell_type": "code",
   "execution_count": 110,
   "metadata": {},
   "outputs": [
    {
     "name": "stdout",
     "output_type": "stream",
     "text": [
      "scores of cross validation:  [0.7719978675196588, 0.7719978675196588, 0.7719978675196588, 0.7703718512594963, 0.7719978675196588]\n",
      "accuracy of ridge classification 0.7716726642676264\n",
      "rmse for ridge classification: 0.4698714938993648\n",
      "mae for ridge classification: 0.2207792207792208\n"
     ]
    }
   ],
   "source": [
    "mae_ridge,rmse_ridge = ridge_clf(x_train, x_test, y_train, y_test)"
   ]
  },
  {
   "cell_type": "code",
   "execution_count": 114,
   "metadata": {},
   "outputs": [
    {
     "name": "stdout",
     "output_type": "stream",
     "text": [
      "RMSE value for k=  1 is: 0.5284134548067254\n",
      "RMSE value for k=  2 is: 0.5222329678670935\n",
      "RMSE value for k=  3 is: 0.5096471914376255\n",
      "RMSE value for k=  4 is: 0.5284134548067254\n",
      "RMSE value for k=  5 is: 0.515978455203089\n",
      "RMSE value for k=  6 is: 0.4767312946227962\n",
      "RMSE value for k=  7 is: 0.4901629731627434\n",
      "RMSE value for k=  8 is: 0.48349377841522817\n",
      "RMSE value for k=  9 is: 0.48349377841522817\n",
      "RMSE value for k=  10 is: 0.4901629731627434\n",
      "RMSE value for k=  11 is: 0.5032362797401965\n",
      "RMSE value for k=  12 is: 0.4767312946227962\n",
      "RMSE value for k=  13 is: 0.48349377841522817\n",
      "RMSE value for k=  14 is: 0.4767312946227962\n",
      "RMSE value for k=  15 is: 0.4629100498862757\n",
      "RMSE value for k=  16 is: 0.4629100498862757\n",
      "RMSE value for k=  17 is: 0.4629100498862757\n",
      "RMSE value for k=  18 is: 0.4767312946227962\n",
      "RMSE value for k=  19 is: 0.4767312946227962\n",
      "[0.72357724 0.68292683 0.70731707 0.74796748 0.77868852]\n",
      "scores of cross validation:  [0.72357724 0.68292683 0.70731707 0.74796748 0.77868852]\n",
      "accuracy of r classification 0.7280954284952686\n",
      "rmse for knn classification: 0.4629100498862757\n",
      "mae for knn classification: 0.21428571428571427\n"
     ]
    },
    {
     "data": {
      "image/png": "[encoded data removed]",
      "text/plain": [
       "<Figure size 432x288 with 1 Axes>"
      ]
     },
     "metadata": {
      "needs_background": "light"
     },
     "output_type": "display_data"
    }
   ],
   "source": [
    "mae_knn,rmse_knn=knn_clf(x_train, x_test, y_train, y_test)"
   ]
  },
  {
   "cell_type": "code",
   "execution_count": 73,
   "metadata": {},
   "outputs": [
    {
     "name": "stdout",
     "output_type": "stream",
     "text": [
      "1\n",
      "5\n",
      "10\n",
      "20\n",
      "50\n",
      "100\n",
      "scores of cross validation:  [0.643342662934826, 0.6679328268692524, 0.6644942023190723, 0.6856857257097161, 0.6287351725976277, 0.6727309076369453]\n",
      "accuracy of mlp classification 0.6604869163445732\n",
      "rmse for mlp classification: 0.5449685051543759\n",
      "mae for mlp classification: 0.30411255411255406\n"
     ]
    }
   ],
   "source": [
    "mae_mlp,rmse_mlp = mlp_clf(x_train, x_test, y_train, y_test)"
   ]
  },
  {
   "cell_type": "code",
   "execution_count": null,
   "metadata": {},
   "outputs": [],
   "source": []
  },
  {
   "cell_type": "markdown",
   "metadata": {},
   "source": [
    "## The same for the iris  dataset"
   ]
  },
  {
   "cell_type": "code",
   "execution_count": 10,
   "metadata": {},
   "outputs": [],
   "source": [
    "from sklearn.datasets import load_iris\n",
    "datas=load_iris()\n",
    "x=datas.data\n",
    "y=datas.target\n",
    "\n",
    "import pandas as pd\n",
    "import numpy as np\n",
    "import matplotlib.pyplot as plt\n",
    "import warnings\n",
    "warnings.filterwarnings('ignore')\n",
    "\n",
    "from sklearn.model_selection import train_test_split\n",
    "\n",
    "x_train, x_test, y_train, y_test = train_test_split(x, y, test_size = 0.2, random_state=1)\n",
    "\n",
    "#fig, ax = plt.subplots(figsize=(22, 16))\n",
    "#plt.plot(x_train[:,0],x_train[:,1],\"r\")\n",
    "#plt.plot(x_test[:,0],x_test[:,1],\"b\")\n",
    "#plt.xlabel('FIRST FEATURE')\n",
    "#plt.ylabel('SECOND FEATURE')\n"
   ]
  },
  {
   "cell_type": "code",
   "execution_count": 124,
   "metadata": {},
   "outputs": [
    {
     "name": "stdout",
     "output_type": "stream",
     "text": [
      "RMSE value for k=  1 is: 0.18257418583505536\n",
      "RMSE value for k=  2 is: 0.18257418583505536\n",
      "RMSE value for k=  3 is: 0.18257418583505536\n",
      "RMSE value for k=  4 is: 0.18257418583505536\n",
      "RMSE value for k=  5 is: 0.18257418583505536\n",
      "RMSE value for k=  6 is: 0.18257418583505536\n",
      "RMSE value for k=  7 is: 0.18257418583505536\n",
      "RMSE value for k=  8 is: 0.18257418583505536\n",
      "RMSE value for k=  9 is: 0.18257418583505536\n",
      "RMSE value for k=  10 is: 0.18257418583505536\n",
      "RMSE value for k=  11 is: 0.18257418583505536\n",
      "RMSE value for k=  12 is: 0.18257418583505536\n",
      "RMSE value for k=  13 is: 0.18257418583505536\n",
      "RMSE value for k=  14 is: 0.18257418583505536\n",
      "RMSE value for k=  15 is: 0.18257418583505536\n",
      "RMSE value for k=  16 is: 0.18257418583505536\n",
      "RMSE value for k=  17 is: 0.18257418583505536\n",
      "RMSE value for k=  18 is: 0.18257418583505536\n",
      "RMSE value for k=  19 is: 0.18257418583505536\n",
      "RMSE value for k=  20 is: 0.18257418583505536\n",
      "RMSE value for k=  21 is: 0.18257418583505536\n",
      "RMSE value for k=  22 is: 0.18257418583505536\n",
      "RMSE value for k=  23 is: 0.18257418583505536\n",
      "RMSE value for k=  24 is: 0.18257418583505536\n",
      "RMSE value for k=  25 is: 0.18257418583505536\n",
      "RMSE value for k=  26 is: 0.18257418583505536\n",
      "RMSE value for k=  27 is: 0.18257418583505536\n",
      "RMSE value for k=  28 is: 0.18257418583505536\n",
      "RMSE value for k=  29 is: 0.18257418583505536\n",
      "RMSE value for k=  30 is: 0.18257418583505536\n",
      "RMSE value for k=  31 is: 0.18257418583505536\n",
      "RMSE value for k=  32 is: 0.18257418583505536\n",
      "RMSE value for k=  33 is: 0.18257418583505536\n",
      "RMSE value for k=  34 is: 0.18257418583505536\n",
      "RMSE value for k=  35 is: 0.18257418583505536\n",
      "RMSE value for k=  36 is: 0.18257418583505536\n",
      "RMSE value for k=  37 is: 0.18257418583505536\n",
      "RMSE value for k=  38 is: 0.18257418583505536\n",
      "RMSE value for k=  39 is: 0.18257418583505536\n",
      "RMSE value for k=  40 is: 0.18257418583505536\n",
      "RMSE value for k=  41 is: 0.18257418583505536\n",
      "RMSE value for k=  42 is: 0.18257418583505536\n",
      "RMSE value for k=  43 is: 0.18257418583505536\n",
      "RMSE value for k=  44 is: 0.18257418583505536\n",
      "RMSE value for k=  45 is: 0.18257418583505536\n",
      "RMSE value for k=  46 is: 0.18257418583505536\n",
      "RMSE value for k=  47 is: 0.18257418583505536\n",
      "RMSE value for k=  48 is: 0.18257418583505536\n",
      "RMSE value for k=  49 is: 0.18257418583505536\n",
      "RMSE value for k=  50 is: 0.18257418583505536\n",
      "accuracy:  0.9280701754385966\n",
      "mae for random forest classification 0.03333333333333333\n",
      "rmse for random forest classification 0.18257418583505544\n"
     ]
    },
    {
     "data": {
      "image/png": "[encoded data removed]",
      "text/plain": [
       "<Figure size 432x288 with 1 Axes>"
      ]
     },
     "metadata": {
      "needs_background": "light"
     },
     "output_type": "display_data"
    }
   ],
   "source": [
    "mae_rf,rmse_rf = random_forest_clf(x_train, x_test, y_train, y_test)"
   ]
  },
  {
   "cell_type": "code",
   "execution_count": 125,
   "metadata": {},
   "outputs": [
    {
     "name": "stdout",
     "output_type": "stream",
     "text": [
      "rmse for gaussian classification 0.18257418583505536\n",
      "mae for gaussian classification 0.03333333333333333\n",
      "scores of cross validation: [1.         0.95833333 0.95833333 0.95833333 0.95833333]\n",
      "accuracy of gaussion regression:  0.9666666666666668\n"
     ]
    }
   ],
   "source": [
    "mae_gpr,rmse_gpr = gpr_clf(x_train, x_test, y_train, y_test)"
   ]
  },
  {
   "cell_type": "code",
   "execution_count": 126,
   "metadata": {},
   "outputs": [
    {
     "name": "stdout",
     "output_type": "stream",
     "text": [
      "scores of cross validation:  [0.8, 0.825, 0.825, 0.825, 0.8333333333333334]\n",
      "accuracy of ridge classification 0.8216666666666667\n",
      "rmse for ridge classification: 0.48971626913058286\n",
      "mae for ridge classification: 0.24\n"
     ]
    }
   ],
   "source": [
    "mae_ridge,rmse_ridge = ridge_clf(x_train, x_test, y_train, y_test)"
   ]
  },
  {
   "cell_type": "code",
   "execution_count": 129,
   "metadata": {},
   "outputs": [
    {
     "name": "stdout",
     "output_type": "stream",
     "text": [
      "RMSE value for k=  1 is: 0.0\n",
      "RMSE value for k=  2 is: 0.0\n",
      "RMSE value for k=  3 is: 0.0\n",
      "RMSE value for k=  4 is: 0.0\n",
      "RMSE value for k=  5 is: 0.0\n",
      "RMSE value for k=  6 is: 0.0\n",
      "RMSE value for k=  7 is: 0.18257418583505536\n",
      "RMSE value for k=  8 is: 0.0\n",
      "RMSE value for k=  9 is: 0.18257418583505536\n",
      "RMSE value for k=  10 is: 0.18257418583505536\n",
      "RMSE value for k=  11 is: 0.18257418583505536\n",
      "RMSE value for k=  12 is: 0.18257418583505536\n",
      "RMSE value for k=  13 is: 0.18257418583505536\n",
      "RMSE value for k=  14 is: 0.18257418583505536\n",
      "RMSE value for k=  15 is: 0.18257418583505536\n",
      "RMSE value for k=  16 is: 0.18257418583505536\n",
      "RMSE value for k=  17 is: 0.18257418583505536\n",
      "RMSE value for k=  18 is: 0.18257418583505536\n",
      "RMSE value for k=  19 is: 0.18257418583505536\n",
      "[0.95833333 0.95833333 0.95833333 0.95833333 0.875     ]\n",
      "scores of cross validation:  [0.95833333 0.95833333 0.95833333 0.95833333 0.875     ]\n",
      "accuracy of r classification 0.9416666666666668\n",
      "rmse for knn classification: 0.0\n",
      "mae for knn classification: 0.0\n"
     ]
    },
    {
     "data": {
      "image/png": "[encoded data removed]",
      "text/plain": [
       "<Figure size 432x288 with 1 Axes>"
      ]
     },
     "metadata": {
      "needs_background": "light"
     },
     "output_type": "display_data"
    }
   ],
   "source": [
    "mae_knn,rmse_knn=knn_clf(x_train, x_test, y_train, y_test)"
   ]
  },
  {
   "cell_type": "code",
   "execution_count": 130,
   "metadata": {},
   "outputs": [
    {
     "name": "stdout",
     "output_type": "stream",
     "text": [
      "1\n",
      "5\n",
      "10\n",
      "20\n",
      "50\n",
      "100\n",
      "scores of cross validation:  [0.8583333333333334, 0.9333333333333333, 0.9166666666666667, 0.9166666666666667, 0.9166666666666667, 0.9166666666666667]\n",
      "accuracy of mlp classification 0.9097222222222223\n",
      "rmse for mlp classification: 0.1217161238900369\n",
      "mae for mlp classification: 0.022222222222222223\n"
     ]
    }
   ],
   "source": [
    "mae_mlp,rmse_mlp = mlp_clf(x_train, x_test, y_train, y_test)"
   ]
  },
  {
   "cell_type": "markdown",
   "metadata": {},
   "source": [
    "## Wine  dataset"
   ]
  },
  {
   "cell_type": "code",
   "execution_count": 131,
   "metadata": {},
   "outputs": [],
   "source": [
    "from sklearn.datasets import load_wine\n",
    "datas=load_wine()\n",
    "x=datas.data\n",
    "y=datas.target\n"
   ]
  },
  {
   "cell_type": "code",
   "execution_count": 15,
   "metadata": {},
   "outputs": [],
   "source": [
    "import pandas as pd\n",
    "import numpy as np\n",
    "import matplotlib.pyplot as plt\n",
    "import warnings\n",
    "\n",
    "warnings.filterwarnings('ignore')\n",
    "\n",
    "from sklearn.model_selection import train_test_split\n",
    "\n",
    "x_train, x_test, y_train, y_test = train_test_split(x, y, test_size = 0.2, random_state=1)\n",
    "\n",
    "#fig, ax = plt.subplots(figsize=(22, 16))\n",
    "#plt.plot(x_train[:,0],x_train[:,1],\"r\")\n",
    "#plt.plot(x_test[:,0],x_test[:,1],\"b\")\n",
    "#plt.xlabel('FIRST FEATURE')\n",
    "#plt.ylabel('SECOND FEATURE')"
   ]
  },
  {
   "cell_type": "code",
   "execution_count": 133,
   "metadata": {},
   "outputs": [
    {
     "name": "stdout",
     "output_type": "stream",
     "text": [
      "RMSE value for k=  1 is: 0.37267799624996495\n",
      "RMSE value for k=  2 is: 0.5527707983925667\n",
      "RMSE value for k=  3 is: 0.408248290463863\n",
      "RMSE value for k=  4 is: 0.23570226039551584\n",
      "RMSE value for k=  5 is: 0.28867513459481287\n",
      "RMSE value for k=  6 is: 0.23570226039551584\n",
      "RMSE value for k=  7 is: 0.23570226039551584\n",
      "RMSE value for k=  8 is: 0.16666666666666666\n",
      "RMSE value for k=  9 is: 0.16666666666666666\n",
      "RMSE value for k=  10 is: 0.16666666666666666\n",
      "RMSE value for k=  11 is: 0.16666666666666666\n",
      "RMSE value for k=  12 is: 0.16666666666666666\n",
      "RMSE value for k=  13 is: 0.16666666666666666\n",
      "RMSE value for k=  14 is: 0.16666666666666666\n",
      "RMSE value for k=  15 is: 0.16666666666666666\n",
      "RMSE value for k=  16 is: 0.16666666666666666\n",
      "RMSE value for k=  17 is: 0.16666666666666666\n",
      "RMSE value for k=  18 is: 0.16666666666666666\n",
      "RMSE value for k=  19 is: 0.16666666666666666\n",
      "RMSE value for k=  20 is: 0.16666666666666666\n",
      "RMSE value for k=  21 is: 0.16666666666666666\n",
      "RMSE value for k=  22 is: 0.16666666666666666\n",
      "RMSE value for k=  23 is: 0.16666666666666666\n",
      "RMSE value for k=  24 is: 0.16666666666666666\n",
      "RMSE value for k=  25 is: 0.16666666666666666\n",
      "RMSE value for k=  26 is: 0.16666666666666666\n",
      "RMSE value for k=  27 is: 0.16666666666666666\n",
      "RMSE value for k=  28 is: 0.16666666666666666\n",
      "RMSE value for k=  29 is: 0.16666666666666666\n",
      "RMSE value for k=  30 is: 0.16666666666666666\n",
      "RMSE value for k=  31 is: 0.16666666666666666\n",
      "RMSE value for k=  32 is: 0.16666666666666666\n",
      "RMSE value for k=  33 is: 0.16666666666666666\n",
      "RMSE value for k=  34 is: 0.16666666666666666\n",
      "RMSE value for k=  35 is: 0.16666666666666666\n",
      "RMSE value for k=  36 is: 0.16666666666666666\n",
      "RMSE value for k=  37 is: 0.16666666666666666\n",
      "RMSE value for k=  38 is: 0.16666666666666666\n",
      "RMSE value for k=  39 is: 0.16666666666666666\n",
      "RMSE value for k=  40 is: 0.16666666666666666\n",
      "RMSE value for k=  41 is: 0.16666666666666666\n",
      "RMSE value for k=  42 is: 0.16666666666666666\n",
      "RMSE value for k=  43 is: 0.16666666666666666\n",
      "RMSE value for k=  44 is: 0.16666666666666666\n",
      "RMSE value for k=  45 is: 0.16666666666666666\n",
      "RMSE value for k=  46 is: 0.16666666666666666\n",
      "RMSE value for k=  47 is: 0.16666666666666666\n",
      "RMSE value for k=  48 is: 0.16666666666666666\n",
      "RMSE value for k=  49 is: 0.16666666666666666\n",
      "RMSE value for k=  50 is: 0.16666666666666666\n",
      "accuracy:  0.93663469017371\n",
      "mae for random forest classification 0.08187134502923978\n",
      "rmse for random forest classification 0.2812611065297102\n"
     ]
    },
    {
     "data": {
      "image/png": "[encoded data removed]",
      "text/plain": [
       "<Figure size 432x288 with 1 Axes>"
      ]
     },
     "metadata": {
      "needs_background": "light"
     },
     "output_type": "display_data"
    }
   ],
   "source": [
    "mae_rf,rmse_rf = random_forest_clf(x_train, x_test, y_train, y_test)"
   ]
  },
  {
   "cell_type": "code",
   "execution_count": 134,
   "metadata": {},
   "outputs": [
    {
     "name": "stdout",
     "output_type": "stream",
     "text": [
      "rmse for gaussian classification 0.7071067811865476\n",
      "mae for gaussian classification 0.3333333333333333\n",
      "scores of cross validation: [0.68965517 0.72413793 0.82142857 0.67857143 0.71428571]\n",
      "accuracy of gaussion regression:  0.725615763546798\n"
     ]
    }
   ],
   "source": [
    "mae_gpr,rmse_gpr = gpr_clf(x_train, x_test, y_train, y_test)"
   ]
  },
  {
   "cell_type": "code",
   "execution_count": 135,
   "metadata": {},
   "outputs": [
    {
     "name": "stdout",
     "output_type": "stream",
     "text": [
      "scores of cross validation:  [1.0, 0.9928571428571429, 0.9928571428571429, 0.9928571428571429, 0.9859605911330049]\n",
      "accuracy of ridge classification 0.9929064039408868\n",
      "rmse for ridge classification: 0.13333333333333333\n",
      "mae for ridge classification: 0.02222222222222222\n"
     ]
    }
   ],
   "source": [
    "mae_ridge,rmse_ridge = ridge_clf(x_train, x_test, y_train, y_test)"
   ]
  },
  {
   "cell_type": "code",
   "execution_count": 137,
   "metadata": {},
   "outputs": [
    {
     "name": "stdout",
     "output_type": "stream",
     "text": [
      "RMSE value for k=  1 is: 0.5773502691896257\n",
      "RMSE value for k=  2 is: 0.7453559924999299\n",
      "RMSE value for k=  3 is: 0.7817359599705717\n",
      "RMSE value for k=  4 is: 0.7453559924999299\n",
      "RMSE value for k=  5 is: 0.7264831572567789\n",
      "RMSE value for k=  6 is: 0.7264831572567789\n",
      "RMSE value for k=  7 is: 0.6871842709362768\n",
      "RMSE value for k=  8 is: 0.7071067811865476\n",
      "RMSE value for k=  9 is: 0.5773502691896257\n",
      "RMSE value for k=  10 is: 0.7637626158259734\n",
      "RMSE value for k=  11 is: 0.7264831572567789\n",
      "RMSE value for k=  12 is: 0.6454972243679028\n",
      "RMSE value for k=  13 is: 0.7264831572567789\n",
      "RMSE value for k=  14 is: 0.6236095644623235\n",
      "RMSE value for k=  15 is: 0.6666666666666666\n",
      "RMSE value for k=  16 is: 0.6666666666666666\n",
      "RMSE value for k=  17 is: 0.6454972243679028\n",
      "RMSE value for k=  18 is: 0.6236095644623235\n",
      "RMSE value for k=  19 is: 0.6454972243679028\n",
      "[0.62068966 0.65517241 0.75       0.64285714 0.53571429]\n",
      "scores of cross validation:  [0.62068966 0.65517241 0.75       0.64285714 0.53571429]\n",
      "accuracy of r classification 0.6408866995073892\n",
      "rmse for knn classification: 0.7071067811865476\n",
      "mae for knn classification: 0.3888888888888889\n"
     ]
    },
    {
     "data": {
      "image/png": "[encoded data removed]",
      "text/plain": [
       "<Figure size 432x288 with 1 Axes>"
      ]
     },
     "metadata": {
      "needs_background": "light"
     },
     "output_type": "display_data"
    }
   ],
   "source": [
    "mae_knn,rmse_knn=knn_clf(x_train, x_test, y_train, y_test)"
   ]
  },
  {
   "cell_type": "code",
   "execution_count": 138,
   "metadata": {},
   "outputs": [
    {
     "name": "stdout",
     "output_type": "stream",
     "text": [
      "1\n",
      "5\n",
      "10\n",
      "20\n",
      "50\n",
      "100\n",
      "scores of cross validation:  [0.4083743842364532, 0.5775862068965517, 0.5049261083743842, 0.7332512315270936, 0.6083743842364531, 0.9083743842364532]\n",
      "accuracy of mlp classification 0.6234811165845648\n",
      "rmse for mlp classification: 0.651807780812592\n",
      "mae for mlp classification: 0.38425925925925913\n"
     ]
    }
   ],
   "source": [
    "mae_mlp,rmse_mlp = mlp_clf(x_train, x_test, y_train, y_test)"
   ]
  },
  {
   "cell_type": "code",
   "execution_count": null,
   "metadata": {},
   "outputs": [],
   "source": []
  },
  {
   "cell_type": "markdown",
   "metadata": {},
   "source": [
    "## Summary of the results.\n",
    "\n",
    "\\begin{aligned}\n",
    "&\\text { A table summarizing the results  of the the RMSE for all datasets. }\\\\\n",
    "&\\begin{array}{|l|l|l|l|l|}\n",
    "\\hline \\text { Method } & \\text { Boston } & \\text { Diabetes } & \\text { Iris } & \\text { Wine } \\\\\n",
    "\\hline \\text { Ridge } & 4.8264 & 0.4698 & 0.4897 & 0.1333 \\\\\n",
    "\\hline \\text { LOWESS } & ? & ? & ? & ? \\\\\n",
    "\\hline \\text { Gaussian Process } & 7.421 & 0.4629 & 0.1825 & 0.7071 \\\\\n",
    "\\hline \\text { Random Forests } & 3.6704 & 0.4547 & 0.1825 & 0.2812 \\\\\n",
    "\\hline \\text { Neural Nets } & 6.7123 & 0.5449 & 0.1217 & 0.6518 \\\\\n",
    "\\hline \\text { K-NN } & 6.0363 & 0.4629 & 0 & 0.7071 \\\\\n",
    "\\hline\n",
    "\\end{array}\n",
    "\\end{aligned}\n",
    "\n",
    "\\begin{aligned}\n",
    "&\\text { A table summarizing the results of the MAE }\\\\\n",
    "&\\begin{array}{|l|l|l|l|l|}\n",
    "\\hline \\text { Method } & \\text { Boston } & \\text { Diabetes } & \\text { Iris } & \\text { Wine } \\\\\n",
    "\\hline \\text { Ridge } & 3.7042 & 0.2207 & 0.24 & 0.0222 \\\\\n",
    "\\hline \\text { LOWESS } & ? & ? & ? & ? \\\\\n",
    "\\hline \\text { Gaussian Process } & 4.9 & 0.2142 & 0.0333 & 0.3333 \\\\\n",
    "\\hline \\text { Random Forests } & 2.778 & 0.2071 & 0.0333 & 0.8187 \\\\\n",
    "\\hline \\text { Neural Nets } & 4.8016 & 0.3041 & 0.022 & 0.3842 \\\\\n",
    "\\hline \\text { K-NN } & 4.0035 & 0.2142 & 0 & 0.3888 \\\\\n",
    "\\hline\n",
    "\\end{array}\n",
    "\\end{aligned}"
   ]
  },
  {
   "cell_type": "code",
   "execution_count": null,
   "metadata": {},
   "outputs": [],
   "source": []
  }
 ],
 "metadata": {
  "kernelspec": {
   "display_name": "Python 3",
   "language": "python",
   "name": "python3"
  },
  "language_info": {
   "codemirror_mode": {
    "name": "ipython",
    "version": 3
   },
   "file_extension": ".py",
   "mimetype": "text/x-python",
   "name": "python",
   "nbconvert_exporter": "python",
   "pygments_lexer": "ipython3",
   "version": "3.8.5"
  },
  "latex_envs": {
   "LaTeX_envs_menu_present": true,
   "autoclose": false,
   "autocomplete": true,
   "bibliofile": "biblio.bib",
   "cite_by": "apalike",
   "current_citInitial": 1,
   "eqLabelWithNumbers": true,
   "eqNumInitial": 1,
   "hotkeys": {
    "equation": "Ctrl-E",
    "itemize": "Ctrl-I"
   },
   "labels_anchors": false,
   "latex_user_defs": false,
   "report_style_numbering": false,
   "user_envs_cfg": false
  },
  "nbTranslate": {
   "displayLangs": [
    "*"
   ],
   "hotkey": "alt-t",
   "langInMainMenu": true,
   "sourceLang": "en",
   "targetLang": "fr",
   "useGoogleTranslate": true
  },
  "toc": {
   "base_numbering": 1,
   "nav_menu": {},
   "number_sections": true,
   "sideBar": true,
   "skip_h1_title": false,
   "title_cell": "Table of Contents",
   "title_sidebar": "Contents",
   "toc_cell": false,
   "toc_position": {},
   "toc_section_display": true,
   "toc_window_display": false
  }
 },
 "nbformat": 4,
 "nbformat_minor": 5
}
